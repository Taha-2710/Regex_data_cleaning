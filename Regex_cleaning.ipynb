{
 "cells": [
  {
   "cell_type": "code",
   "execution_count": 62,
   "id": "90026ada-1003-44cb-a760-156caee42000",
   "metadata": {},
   "outputs": [],
   "source": [
    "import pandas as pd\n",
    "import re"
   ]
  },
  {
   "cell_type": "code",
   "execution_count": 63,
   "id": "8342c91f-0c4b-4f0e-b901-f1b86f03bd56",
   "metadata": {},
   "outputs": [
    {
     "data": {
      "text/html": [
       "<div>\n",
       "<style scoped>\n",
       "    .dataframe tbody tr th:only-of-type {\n",
       "        vertical-align: middle;\n",
       "    }\n",
       "\n",
       "    .dataframe tbody tr th {\n",
       "        vertical-align: top;\n",
       "    }\n",
       "\n",
       "    .dataframe thead th {\n",
       "        text-align: right;\n",
       "    }\n",
       "</style>\n",
       "<table border=\"1\" class=\"dataframe\">\n",
       "  <thead>\n",
       "    <tr style=\"text-align: right;\">\n",
       "      <th></th>\n",
       "      <th>Name</th>\n",
       "      <th>Email</th>\n",
       "      <th>Phone</th>\n",
       "      <th>IP</th>\n",
       "      <th>Comment</th>\n",
       "      <th>Date</th>\n",
       "      <th>CardNumber</th>\n",
       "    </tr>\n",
       "  </thead>\n",
       "  <tbody>\n",
       "    <tr>\n",
       "      <th>0</th>\n",
       "      <td>John123</td>\n",
       "      <td>john.doe@gmail.com</td>\n",
       "      <td>+91-9876543210</td>\n",
       "      <td>192.168.1.1</td>\n",
       "      <td>&lt;div&gt;Hello there!&lt;/div&gt;</td>\n",
       "      <td>2023-01-15</td>\n",
       "      <td>4111 1111 1111 1111</td>\n",
       "    </tr>\n",
       "    <tr>\n",
       "      <th>1</th>\n",
       "      <td>Ayesha!!</td>\n",
       "      <td>invalid..email@domain..com</td>\n",
       "      <td>12345</td>\n",
       "      <td>300.1.2.3</td>\n",
       "      <td>&lt;p&gt;Good &lt;b&gt;job&lt;/b&gt;&lt;/p&gt;</td>\n",
       "      <td>15 Jan 2023</td>\n",
       "      <td>5500-0000-0000-0004</td>\n",
       "    </tr>\n",
       "    <tr>\n",
       "      <th>2</th>\n",
       "      <td>Rahul &lt;b&gt;Verma&lt;/b&gt;</td>\n",
       "      <td>ayesha@domain.co.in</td>\n",
       "      <td>0 9999999999</td>\n",
       "      <td>10.0.0.1</td>\n",
       "      <td>Clean text</td>\n",
       "      <td>2023/13/32</td>\n",
       "      <td>1234abcd5678efgh</td>\n",
       "    </tr>\n",
       "  </tbody>\n",
       "</table>\n",
       "</div>"
      ],
      "text/plain": [
       "                 Name                       Email           Phone  \\\n",
       "0             John123          john.doe@gmail.com  +91-9876543210   \n",
       "1            Ayesha!!  invalid..email@domain..com           12345   \n",
       "2  Rahul <b>Verma</b>         ayesha@domain.co.in    0 9999999999   \n",
       "\n",
       "            IP                  Comment         Date           CardNumber  \n",
       "0  192.168.1.1  <div>Hello there!</div>   2023-01-15  4111 1111 1111 1111  \n",
       "1    300.1.2.3   <p>Good <b>job</b></p>  15 Jan 2023  5500-0000-0000-0004  \n",
       "2     10.0.0.1               Clean text   2023/13/32     1234abcd5678efgh  "
      ]
     },
     "execution_count": 63,
     "metadata": {},
     "output_type": "execute_result"
    }
   ],
   "source": [
    "raw_data = {\n",
    "    'Name': ['John123', 'Ayesha!!', 'Rahul <b>Verma</b>'],\n",
    "    'Email': ['john.doe@gmail.com', 'invalid..email@domain..com', 'ayesha@domain.co.in'],\n",
    "    'Phone': ['+91-9876543210', '12345', '0 9999999999'],\n",
    "    'IP': ['192.168.1.1', '300.1.2.3', '10.0.0.1'],\n",
    "    'Comment': ['<div>Hello there!</div>', '<p>Good <b>job</b></p>', 'Clean text'],\n",
    "    'Date': ['2023-01-15', '15 Jan 2023', '2023/13/32'],\n",
    "    'CardNumber': [ '4111 1111 1111 1111', '5500-0000-0000-0004','1234abcd5678efgh']\n",
    "}\n",
    "\n",
    "df = pd.DataFrame(raw_data)\n",
    "df"
   ]
  },
  {
   "cell_type": "code",
   "execution_count": 64,
   "id": "cd85a456-f432-4b27-917d-c09f4917fc38",
   "metadata": {},
   "outputs": [],
   "source": [
    "p1=r'((\\<\\/?[a-z]\\>)|([^a-zA-Z]))'\n",
    "df['Cleaned_Name']=df['Name'].apply(lambda x :  re.sub(p1,'',x))\n"
   ]
  },
  {
   "cell_type": "code",
   "execution_count": 65,
   "id": "7c03b3ff-2c36-4051-b54a-e2f46dc97378",
   "metadata": {},
   "outputs": [
    {
     "data": {
      "text/plain": [
       "0          John\n",
       "1        Ayesha\n",
       "2    RahulVerma\n",
       "Name: Cleaned_Name, dtype: object"
      ]
     },
     "execution_count": 65,
     "metadata": {},
     "output_type": "execute_result"
    }
   ],
   "source": [
    "df['Cleaned_Name']"
   ]
  },
  {
   "cell_type": "code",
   "execution_count": null,
   "id": "0b2dcc79-9462-4375-829e-21572ee3a887",
   "metadata": {},
   "outputs": [],
   "source": []
  },
  {
   "cell_type": "code",
   "execution_count": 66,
   "id": "ca284c4e-b87a-44a7-ac6f-56274478d5be",
   "metadata": {},
   "outputs": [],
   "source": [
    "p2 = r'([a-zA-Z0-9]+[._%+-]{0,1}[a-zA-z0-9]+@[a-zA-Z0-9-]+\\.[a-zA-Z]{2,3}(?:\\.[a-zA-Z]{2})?)'\n",
    "df['Valid_emails'] = df['Email'].str.extract(p2, expand=False)"
   ]
  },
  {
   "cell_type": "code",
   "execution_count": 67,
   "id": "2d703bc6-f712-48d3-bafc-ceddaa36f0ed",
   "metadata": {},
   "outputs": [
    {
     "data": {
      "text/plain": [
       "0     john.doe@gmail.com\n",
       "1                    NaN\n",
       "2    ayesha@domain.co.in\n",
       "Name: Valid_emails, dtype: object"
      ]
     },
     "execution_count": 67,
     "metadata": {},
     "output_type": "execute_result"
    }
   ],
   "source": [
    "df['Valid_emails']"
   ]
  },
  {
   "cell_type": "code",
   "execution_count": 68,
   "id": "44319166-f4be-48bf-831b-590c91590d42",
   "metadata": {},
   "outputs": [],
   "source": [
    "p3=r'(?:\\+[\\d]{1,2}\\-)?([\\d]{10})'\n",
    "df['Phone_numbers']=df['Phone'].str.extract(p3,expand=False)"
   ]
  },
  {
   "cell_type": "code",
   "execution_count": 69,
   "id": "11eee1c5-0a2b-405a-9ce2-f9bec41bbc97",
   "metadata": {},
   "outputs": [
    {
     "data": {
      "text/plain": [
       "0    9876543210\n",
       "1           NaN\n",
       "2    9999999999\n",
       "Name: Phone_numbers, dtype: object"
      ]
     },
     "execution_count": 69,
     "metadata": {},
     "output_type": "execute_result"
    }
   ],
   "source": [
    "df['Phone_numbers']"
   ]
  },
  {
   "cell_type": "code",
   "execution_count": 70,
   "id": "63631a3e-30e9-45e0-ae8c-0d2f123a7a3a",
   "metadata": {},
   "outputs": [],
   "source": [
    "p4=r'(<.*?>)'\n",
    "df['Text_b/w_tags']=df['Comment'].apply(lambda x: re.sub(p4,'',x))"
   ]
  },
  {
   "cell_type": "code",
   "execution_count": 71,
   "id": "f6437a07-7091-434c-ad60-baed3be63c5b",
   "metadata": {},
   "outputs": [
    {
     "data": {
      "text/plain": [
       "0    Hello there!\n",
       "1        Good job\n",
       "2      Clean text\n",
       "Name: Text_b/w_tags, dtype: object"
      ]
     },
     "execution_count": 71,
     "metadata": {},
     "output_type": "execute_result"
    }
   ],
   "source": [
    "df['Text_b/w_tags']"
   ]
  },
  {
   "cell_type": "code",
   "execution_count": 72,
   "id": "56f359cb-ed23-4713-9f51-df2484f4a473",
   "metadata": {},
   "outputs": [],
   "source": [
    "from dateutil import parser"
   ]
  },
  {
   "cell_type": "code",
   "execution_count": 73,
   "id": "b221bf31-d213-4cba-b65a-d6616c767e90",
   "metadata": {},
   "outputs": [],
   "source": [
    "def clean_date(date):\n",
    "    try:\n",
    "        return parser.parse(date).strftime('%Y-%m-%d')\n",
    "    except:\n",
    "        return None"
   ]
  },
  {
   "cell_type": "code",
   "execution_count": 74,
   "id": "523e9716-f85e-4683-a4b6-3d60c33e0037",
   "metadata": {},
   "outputs": [],
   "source": [
    "df['Cleaned_date']=df['Date'].apply(clean_date)"
   ]
  },
  {
   "cell_type": "code",
   "execution_count": 75,
   "id": "2deb538b-efc9-4343-bac9-b7f6210e4e3c",
   "metadata": {},
   "outputs": [
    {
     "data": {
      "text/plain": [
       "0    2023-01-15\n",
       "1    2023-01-15\n",
       "2          None\n",
       "Name: Cleaned_date, dtype: object"
      ]
     },
     "execution_count": 75,
     "metadata": {},
     "output_type": "execute_result"
    }
   ],
   "source": [
    "df['Cleaned_date']"
   ]
  },
  {
   "cell_type": "code",
   "execution_count": 76,
   "id": "bf0c60e7-4ba5-4e05-ac23-5c93da7815a1",
   "metadata": {},
   "outputs": [],
   "source": [
    "p5=r'(\\b(?:(?:25[0-5]|2[0-4][0-9]|1[0-9]{2}|[1-9]?[0-9])\\.){3}(?:25[0-5]|2[0-4][0-9]|1[0-9]{2}|[1-9]?[0-9])\\b)'\n",
    "df['Valid_IPs']=df['IP'].str.extract(p5,expand=False)"
   ]
  },
  {
   "cell_type": "code",
   "execution_count": 77,
   "id": "a14792bb-06c3-48b0-96ce-1758f3e85e2f",
   "metadata": {},
   "outputs": [
    {
     "data": {
      "text/plain": [
       "0    192.168.1.1\n",
       "1            NaN\n",
       "2       10.0.0.1\n",
       "Name: Valid_IPs, dtype: object"
      ]
     },
     "execution_count": 77,
     "metadata": {},
     "output_type": "execute_result"
    }
   ],
   "source": [
    "df['Valid_IPs']"
   ]
  },
  {
   "cell_type": "code",
   "execution_count": 78,
   "id": "5ba16df6-c46a-461b-b11e-643fa64686b2",
   "metadata": {},
   "outputs": [],
   "source": [
    "p6=r'((?:\\d+[ .-]){3}\\d+)'\n",
    "df['Valid_CardNumber']=df['CardNumber'].str.extract(p6,expand=False)"
   ]
  },
  {
   "cell_type": "code",
   "execution_count": 79,
   "id": "f96fc4ed-7363-493c-946b-a68a8904ca0b",
   "metadata": {},
   "outputs": [
    {
     "data": {
      "text/html": [
       "<div>\n",
       "<style scoped>\n",
       "    .dataframe tbody tr th:only-of-type {\n",
       "        vertical-align: middle;\n",
       "    }\n",
       "\n",
       "    .dataframe tbody tr th {\n",
       "        vertical-align: top;\n",
       "    }\n",
       "\n",
       "    .dataframe thead th {\n",
       "        text-align: right;\n",
       "    }\n",
       "</style>\n",
       "<table border=\"1\" class=\"dataframe\">\n",
       "  <thead>\n",
       "    <tr style=\"text-align: right;\">\n",
       "      <th></th>\n",
       "      <th>Name</th>\n",
       "      <th>Email</th>\n",
       "      <th>Phone</th>\n",
       "      <th>IP</th>\n",
       "      <th>Comment</th>\n",
       "      <th>Date</th>\n",
       "      <th>CardNumber</th>\n",
       "      <th>Cleaned_Name</th>\n",
       "      <th>Valid_emails</th>\n",
       "      <th>Phone_numbers</th>\n",
       "      <th>Text_b/w_tags</th>\n",
       "      <th>Cleaned_date</th>\n",
       "      <th>Valid_IPs</th>\n",
       "      <th>Valid_CardNumber</th>\n",
       "    </tr>\n",
       "  </thead>\n",
       "  <tbody>\n",
       "    <tr>\n",
       "      <th>0</th>\n",
       "      <td>John123</td>\n",
       "      <td>john.doe@gmail.com</td>\n",
       "      <td>+91-9876543210</td>\n",
       "      <td>192.168.1.1</td>\n",
       "      <td>&lt;div&gt;Hello there!&lt;/div&gt;</td>\n",
       "      <td>2023-01-15</td>\n",
       "      <td>4111 1111 1111 1111</td>\n",
       "      <td>John</td>\n",
       "      <td>john.doe@gmail.com</td>\n",
       "      <td>9876543210</td>\n",
       "      <td>Hello there!</td>\n",
       "      <td>2023-01-15</td>\n",
       "      <td>192.168.1.1</td>\n",
       "      <td>4111 1111 1111 1111</td>\n",
       "    </tr>\n",
       "    <tr>\n",
       "      <th>1</th>\n",
       "      <td>Ayesha!!</td>\n",
       "      <td>invalid..email@domain..com</td>\n",
       "      <td>12345</td>\n",
       "      <td>300.1.2.3</td>\n",
       "      <td>&lt;p&gt;Good &lt;b&gt;job&lt;/b&gt;&lt;/p&gt;</td>\n",
       "      <td>15 Jan 2023</td>\n",
       "      <td>5500-0000-0000-0004</td>\n",
       "      <td>Ayesha</td>\n",
       "      <td>NaN</td>\n",
       "      <td>NaN</td>\n",
       "      <td>Good job</td>\n",
       "      <td>2023-01-15</td>\n",
       "      <td>NaN</td>\n",
       "      <td>5500-0000-0000-0004</td>\n",
       "    </tr>\n",
       "    <tr>\n",
       "      <th>2</th>\n",
       "      <td>Rahul &lt;b&gt;Verma&lt;/b&gt;</td>\n",
       "      <td>ayesha@domain.co.in</td>\n",
       "      <td>0 9999999999</td>\n",
       "      <td>10.0.0.1</td>\n",
       "      <td>Clean text</td>\n",
       "      <td>2023/13/32</td>\n",
       "      <td>1234abcd5678efgh</td>\n",
       "      <td>RahulVerma</td>\n",
       "      <td>ayesha@domain.co.in</td>\n",
       "      <td>9999999999</td>\n",
       "      <td>Clean text</td>\n",
       "      <td>None</td>\n",
       "      <td>10.0.0.1</td>\n",
       "      <td>NaN</td>\n",
       "    </tr>\n",
       "  </tbody>\n",
       "</table>\n",
       "</div>"
      ],
      "text/plain": [
       "                 Name                       Email           Phone  \\\n",
       "0             John123          john.doe@gmail.com  +91-9876543210   \n",
       "1            Ayesha!!  invalid..email@domain..com           12345   \n",
       "2  Rahul <b>Verma</b>         ayesha@domain.co.in    0 9999999999   \n",
       "\n",
       "            IP                  Comment         Date           CardNumber  \\\n",
       "0  192.168.1.1  <div>Hello there!</div>   2023-01-15  4111 1111 1111 1111   \n",
       "1    300.1.2.3   <p>Good <b>job</b></p>  15 Jan 2023  5500-0000-0000-0004   \n",
       "2     10.0.0.1               Clean text   2023/13/32     1234abcd5678efgh   \n",
       "\n",
       "  Cleaned_Name         Valid_emails Phone_numbers Text_b/w_tags Cleaned_date  \\\n",
       "0         John   john.doe@gmail.com    9876543210  Hello there!   2023-01-15   \n",
       "1       Ayesha                  NaN           NaN      Good job   2023-01-15   \n",
       "2   RahulVerma  ayesha@domain.co.in    9999999999    Clean text         None   \n",
       "\n",
       "     Valid_IPs     Valid_CardNumber  \n",
       "0  192.168.1.1  4111 1111 1111 1111  \n",
       "1          NaN  5500-0000-0000-0004  \n",
       "2     10.0.0.1                  NaN  "
      ]
     },
     "execution_count": 79,
     "metadata": {},
     "output_type": "execute_result"
    }
   ],
   "source": [
    "df"
   ]
  },
  {
   "cell_type": "code",
   "execution_count": 80,
   "id": "a90cfe55-aa40-4271-83be-14496ffc8c74",
   "metadata": {},
   "outputs": [],
   "source": [
    "df_new=df[['Cleaned_Name',\t'Valid_emails',\t'Phone_numbers',\t'Text_b/w_tags',\t'Cleaned_date',\t'Valid_IPs','Valid_CardNumber']].copy()"
   ]
  },
  {
   "cell_type": "code",
   "execution_count": 81,
   "id": "f2073275-68dd-4b6d-b226-3a44c592dd34",
   "metadata": {},
   "outputs": [],
   "source": [
    "df_new.to_csv(r'C:\\Users\\taham\\Downloads\\Cleaned_file_regex.csv')"
   ]
  },
  {
   "cell_type": "code",
   "execution_count": null,
   "id": "c1bce6af-80e1-48be-9aa3-62f2d74f96f8",
   "metadata": {},
   "outputs": [],
   "source": []
  }
 ],
 "metadata": {
  "kernelspec": {
   "display_name": "Python [conda env:base] *",
   "language": "python",
   "name": "conda-base-py"
  },
  "language_info": {
   "codemirror_mode": {
    "name": "ipython",
    "version": 3
   },
   "file_extension": ".py",
   "mimetype": "text/x-python",
   "name": "python",
   "nbconvert_exporter": "python",
   "pygments_lexer": "ipython3",
   "version": "3.12.7"
  }
 },
 "nbformat": 4,
 "nbformat_minor": 5
}
